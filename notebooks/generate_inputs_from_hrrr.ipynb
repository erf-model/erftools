{
 "cells": [
  {
   "cell_type": "code",
   "execution_count": 1,
   "id": "f0cce735-5d68-4e57-ae18-c4b87f6caf8d",
   "metadata": {},
   "outputs": [],
   "source": [
    "%load_ext autoreload\n",
    "%autoreload 2"
   ]
  },
  {
   "cell_type": "code",
   "execution_count": 2,
   "id": "1bf4e408-b6bf-4227-9bec-229d4a8a9a24",
   "metadata": {},
   "outputs": [],
   "source": [
    "import os\n",
    "#import s3fs\n",
    "from herbie import Herbie\n",
    "import numpy as np\n",
    "import pandas as pd\n",
    "import xarray as xr\n",
    "import metpy\n",
    "import matplotlib.pyplot as plt\n",
    "import cartopy.crs as ccrs\n",
    "import cartopy.feature as cfeature\n",
    "\n",
    "from erftools.preprocessing import LambertConformalGrid, NativeHRRR\n",
    "from erftools.preprocessing import hrrr_projection as hrrrproj"
   ]
  },
  {
   "cell_type": "markdown",
   "id": "cf129730-fd87-4a55-8d59-f4274264cf34",
   "metadata": {},
   "source": [
    "# Generate initial and boundary data from HRRR"
   ]
  },
  {
   "cell_type": "code",
   "execution_count": 3,
   "id": "32c0a23d-3606-4f31-8b48-e981cf2d54c5",
   "metadata": {},
   "outputs": [],
   "source": [
    "#\n",
    "# simulation params\n",
    "#\n",
    "start_date   = pd.to_datetime('2021-07-20 00:00')\n",
    "end_date     = pd.to_datetime('2021-07-21 00:00')\n",
    "prob_extent  = 320e3, 512e3, 10e3\n",
    "n_cell       = 1280, 2048, 300\n",
    "zlevels_stag = None\n",
    "\n",
    "#*** COARSE GRID FOR TESTING ***\n",
    "prob_extent  = 320e3, 500e3, 10e3\n",
    "n_cell       = 128, 200, 200\n",
    "\n",
    "# vertical interpolation: uniform grid\n",
    "zlevels_stag = np.arange(n_cell[2]+1) * prob_extent[2]/n_cell[2]\n",
    "\n",
    "# lambert conformal projection\n",
    "cen_latlon   = 35.85, -123.72\n",
    "std_parallel = 36.05\n",
    "std_lon      = -65.0\n",
    "\n",
    "# number of fringe points in wrfbdy\n",
    "bdy_width = 5\n",
    "\n",
    "# HRRR snapshot selection\n",
    "forecast_hour = 2\n",
    "\n",
    "# output precision\n",
    "nc_dtype = np.float32 #np.float64"
   ]
  },
  {
   "cell_type": "code",
   "execution_count": 4,
   "id": "5286db2f-8578-4eed-97bd-a77391053953",
   "metadata": {},
   "outputs": [],
   "source": [
    "datadir = 'data'\n",
    "figdir = 'figures'\n",
    "suffix = f'_COARSE_f{forecast_hour:02d}'\n",
    "\n",
    "os.makedirs(datadir, exist_ok=True)\n",
    "os.makedirs(figdir, exist_ok=True)"
   ]
  },
  {
   "cell_type": "code",
   "execution_count": null,
   "id": "34a64f91-6ca9-4bc8-83dd-957e16b1ff11",
   "metadata": {},
   "outputs": [],
   "source": []
  },
  {
   "cell_type": "markdown",
   "id": "ffb860dd-9b62-4711-a7e7-5fc1b2884b5e",
   "metadata": {},
   "source": [
    "## 1. Setup"
   ]
  },
  {
   "cell_type": "code",
   "execution_count": 5,
   "id": "c31e1260-2d33-459b-a684-cb2ef106f4f1",
   "metadata": {},
   "outputs": [
    {
     "data": {
      "text/plain": [
       "(1626739200.0, 1626825600.0)"
      ]
     },
     "execution_count": 5,
     "metadata": {},
     "output_type": "execute_result"
    }
   ],
   "source": [
    "# epoch times\n",
    "start_time = (start_date - pd.to_datetime('1970-01-01')).total_seconds() \n",
    "stop_time = (end_date - pd.to_datetime('1970-01-01')).total_seconds() \n",
    "start_time, stop_time"
   ]
  },
  {
   "cell_type": "code",
   "execution_count": 6,
   "id": "d5e3c9a9-3936-4ff6-9cd7-6bbf1c7e0973",
   "metadata": {},
   "outputs": [
    {
     "data": {
      "text/plain": [
       "24"
      ]
     },
     "execution_count": 6,
     "metadata": {},
     "output_type": "execute_result"
    }
   ],
   "source": [
    "sim_time = end_date - start_date\n",
    "onehr = pd.to_timedelta(1,'h')\n",
    "num_hours = int(np.round(sim_time / onehr))\n",
    "num_hours"
   ]
  },
  {
   "cell_type": "code",
   "execution_count": 7,
   "id": "ede83dc1-ce59-4c38-a4c1-8ba0b02cd392",
   "metadata": {},
   "outputs": [
    {
     "data": {
      "text/plain": [
       "DatetimeIndex(['2021-07-20 00:00:00', '2021-07-20 01:00:00',\n",
       "               '2021-07-20 02:00:00', '2021-07-20 03:00:00',\n",
       "               '2021-07-20 04:00:00', '2021-07-20 05:00:00',\n",
       "               '2021-07-20 06:00:00', '2021-07-20 07:00:00',\n",
       "               '2021-07-20 08:00:00', '2021-07-20 09:00:00',\n",
       "               '2021-07-20 10:00:00', '2021-07-20 11:00:00',\n",
       "               '2021-07-20 12:00:00', '2021-07-20 13:00:00',\n",
       "               '2021-07-20 14:00:00', '2021-07-20 15:00:00',\n",
       "               '2021-07-20 16:00:00', '2021-07-20 17:00:00',\n",
       "               '2021-07-20 18:00:00', '2021-07-20 19:00:00',\n",
       "               '2021-07-20 20:00:00', '2021-07-20 21:00:00',\n",
       "               '2021-07-20 22:00:00', '2021-07-20 23:00:00',\n",
       "               '2021-07-21 00:00:00'],\n",
       "              dtype='datetime64[ns]', freq='H')"
      ]
     },
     "execution_count": 7,
     "metadata": {},
     "output_type": "execute_result"
    }
   ],
   "source": [
    "datetimes = pd.date_range(start_date, end_date, freq='1h')\n",
    "datetimes"
   ]
  },
  {
   "cell_type": "code",
   "execution_count": 8,
   "id": "bbde7583-20c4-4438-9abf-77c7bb867b66",
   "metadata": {},
   "outputs": [
    {
     "data": {
      "text/plain": [
       "[2500.0, 2500.0, 50.0]"
      ]
     },
     "execution_count": 8,
     "metadata": {},
     "output_type": "execute_result"
    }
   ],
   "source": [
    "dx = [L/n for L,n in zip(prob_extent,n_cell)]\n",
    "dx"
   ]
  },
  {
   "cell_type": "code",
   "execution_count": 9,
   "id": "407354d7-9ceb-49f2-b185-5da4f4a3669c",
   "metadata": {},
   "outputs": [
    {
     "data": {
      "text/plain": [
       "{'WEST-EAST_GRID_DIMENSION': 129,\n",
       " 'SOUTH-NORTH_GRID_DIMENSION': 201,\n",
       " 'DX': 2500.0,\n",
       " 'DY': 2500.0,\n",
       " 'SIMULATION_START_DATE': '2021-07-20_00:00:00',\n",
       " 'USE_THETA_M': 1}"
      ]
     },
     "execution_count": 9,
     "metadata": {},
     "output_type": "execute_result"
    }
   ],
   "source": [
    "# for reference\n",
    "attrs = {\n",
    "    'WEST-EAST_GRID_DIMENSION': n_cell[0]+1,\n",
    "    'SOUTH-NORTH_GRID_DIMENSION': n_cell[1]+1,\n",
    "    'DX': dx[0],\n",
    "    'DY': dx[1],\n",
    "    'SIMULATION_START_DATE': start_date.strftime('%Y-%m-%d_%H:%M:%S'),\n",
    "    'USE_THETA_M': 1,\n",
    "}\n",
    "attrs"
   ]
  },
  {
   "cell_type": "code",
   "execution_count": 10,
   "id": "a2658caa-1383-4032-8cee-d5969bec73eb",
   "metadata": {},
   "outputs": [],
   "source": [
    "# setup computational grid\n",
    "grid = LambertConformalGrid(\n",
    "    ref_lat=cen_latlon[0],\n",
    "    ref_lon=cen_latlon[1],\n",
    "    truelat1=std_parallel,\n",
    "    stand_lon=std_lon,\n",
    "    dx=dx[0],\n",
    "    dy=dx[0],\n",
    "    nx=n_cell[0],\n",
    "    ny=n_cell[1],\n",
    ")"
   ]
  },
  {
   "cell_type": "code",
   "execution_count": null,
   "id": "d557b20b-b6d2-45da-93ff-bc6db521c941",
   "metadata": {},
   "outputs": [],
   "source": []
  },
  {
   "cell_type": "markdown",
   "id": "32129a57-4a45-4193-ba39-dfcb785848b8",
   "metadata": {},
   "source": [
    "## 2. Get initial HRRR fields"
   ]
  },
  {
   "cell_type": "code",
   "execution_count": 11,
   "id": "e42f9a3a-df87-4970-aee9-99c2ed947b6e",
   "metadata": {},
   "outputs": [
    {
     "name": "stdout",
     "output_type": "stream",
     "text": [
      "✅ Found ┊ model=hrrr ┊ \u001b[3mproduct=nat\u001b[0m ┊ \u001b[38;2;41;130;13m2021-Jul-19 22:00 UTC\u001b[92m F02\u001b[0m ┊ \u001b[38;2;255;153;0m\u001b[3mGRIB2 @ local\u001b[0m ┊ \u001b[38;2;255;153;0m\u001b[3mIDX @ aws\u001b[0m\n",
      "🌉 Already have local copy --> /Users/equon/data/hrrr/20210719/hrrr.t22z.wrfnatf02.grib2\n"
     ]
    }
   ],
   "source": [
    "hrrrdata = NativeHRRR(start_date,forecasthour=forecast_hour)\n",
    "\n",
    "#inv = hrrrdata.inventory()"
   ]
  },
  {
   "cell_type": "code",
   "execution_count": 12,
   "id": "2f4c9931-b7d9-471c-8772-cea97117a110",
   "metadata": {},
   "outputs": [],
   "source": [
    "hrrrdata.set_output_grid(grid)"
   ]
  },
  {
   "cell_type": "markdown",
   "id": "b464fa62-2729-4966-94ca-8a9fa4b915b8",
   "metadata": {},
   "source": [
    "### check simulation domain"
   ]
  },
  {
   "cell_type": "code",
   "execution_count": 13,
   "id": "48a8df02-6ecb-4b67-8ade-fcaf72c0fcda",
   "metadata": {},
   "outputs": [],
   "source": [
    "# grid corners from grid to HRRR projection\n",
    "x_sw, y_sw = hrrrproj.transform_point(grid.x[ 0], grid.y[ 0], grid.proj)\n",
    "x_se, y_se = hrrrproj.transform_point(grid.x[-1], grid.y[ 0], grid.proj)\n",
    "x_ne, y_ne = hrrrproj.transform_point(grid.x[-1], grid.y[-1], grid.proj)\n",
    "x_nw, y_nw = hrrrproj.transform_point(grid.x[ 0], grid.y[-1], grid.proj)\n",
    "\n",
    "# get range of grid coords, in HRRR projected coordinates\n",
    "hrrr_xg_min = np.min([x_sw, x_se, x_ne, x_nw])\n",
    "hrrr_xg_max = np.max([x_sw, x_se, x_ne, x_nw])\n",
    "hrrr_yg_min = np.min([y_sw, y_se, y_ne, y_nw])\n",
    "hrrr_yg_max = np.max([y_sw, y_se, y_ne, y_nw])\n",
    "\n",
    "# make sure our grid is inside\n",
    "assert hrrr_xg_min > hrrrdata.xlim['sw']\n",
    "assert hrrr_xg_max < hrrrdata.xlim['ne']\n",
    "assert hrrr_yg_min > hrrrdata.ylim['sw']\n",
    "assert hrrr_yg_max < hrrrdata.ylim['ne']"
   ]
  },
  {
   "cell_type": "code",
   "execution_count": 14,
   "id": "95764327-23ed-4560-bfb9-685733dd5136",
   "metadata": {},
   "outputs": [
    {
     "data": {
      "image/png": "[encoded data removed]",
      "text/plain": [
       "<Figure size 640x480 with 1 Axes>"
      ]
     },
     "metadata": {},
     "output_type": "display_data"
    }
   ],
   "source": [
    "fig,ax = plt.subplots(subplot_kw=dict(projection=hrrrproj))\n",
    "ax.set_extent([-135, -60, 19, 55], crs=ccrs.PlateCarree())\n",
    "ax.coastlines()\n",
    "ax.add_feature(cfeature.BORDERS, linestyle='-')\n",
    "ax.gridlines(draw_labels=True, dms=True, x_inline=False, y_inline=False)\n",
    "\n",
    "# HRRR\n",
    "x1 = hrrrdata.x1\n",
    "y1 = hrrrdata.y1\n",
    "ax.plot(x1, y1[0 ]*np.ones_like(x1), 'b', transform=hrrrproj, label='HRRR')\n",
    "ax.plot(x1, y1[-1]*np.ones_like(x1), 'b', transform=hrrrproj)\n",
    "ax.plot(x1[0 ]*np.ones_like(y1), y1, 'b', transform=hrrrproj)\n",
    "ax.plot(x1[-1]*np.ones_like(y1), y1, 'b', transform=hrrrproj)\n",
    "\n",
    "# simulated grid\n",
    "ax.plot(hrrrdata.xg[ :, 0], hrrrdata.yg[ :, 0], 'g', label='ERF')\n",
    "ax.plot(hrrrdata.xg[ 0, :], hrrrdata.yg[ 0, :], 'g')\n",
    "ax.plot(hrrrdata.xg[-1, :], hrrrdata.yg[-1, :], 'g')\n",
    "ax.plot(hrrrdata.xg[ :,-1], hrrrdata.yg[ :,-1], 'g')\n",
    "\n",
    "ax.legend(loc='upper center', ncol=2, framealpha=0.9)\n",
    "\n",
    "fig.savefig(f'{figdir}/sim_domain.png',bbox_inches='tight')"
   ]
  },
  {
   "cell_type": "code",
   "execution_count": null,
   "id": "b209924c-57a9-41c5-8662-131722e611b5",
   "metadata": {},
   "outputs": [],
   "source": []
  },
  {
   "cell_type": "markdown",
   "id": "5197cd69-5fd6-447b-89d9-3e640588602e",
   "metadata": {},
   "source": [
    "## 3. Create initial condition data"
   ]
  },
  {
   "cell_type": "code",
   "execution_count": 15,
   "id": "299dbc25-4018-40ae-af98-9037027d0bfe",
   "metadata": {},
   "outputs": [],
   "source": [
    "hrrrdata.clip(hrrr_xg_min,hrrr_xg_max,\n",
    "              hrrr_yg_min,hrrr_yg_max,\n",
    "              #zmax=prob_extent[2],\n",
    "              inplace=True)"
   ]
  },
  {
   "cell_type": "code",
   "execution_count": 16,
   "id": "280ef77c-6c1f-49e5-a674-b97c6ef3a427",
   "metadata": {},
   "outputs": [
    {
     "name": "stdout",
     "output_type": "stream",
     "text": [
      "Note: mass flux through top faces is 1.18628e+08\n",
      "Setting vertical velocity to zero\n",
      "CPU times: user 12.1 s, sys: 1.34 s, total: 13.5 s\n",
      "Wall time: 13.5 s\n"
     ]
    }
   ],
   "source": [
    "%%time\n",
    "hrrrdata.calculate(zeroW=True)\n",
    "\n",
    "# CPU times: user 12.4 s, sys: 1.48 s, total: 13.8 s\n",
    "# Wall time: 14.1 s"
   ]
  },
  {
   "cell_type": "code",
   "execution_count": 26,
   "id": "eb911af2-f872-49f7-aa4a-ce5d90f573b2",
   "metadata": {},
   "outputs": [
    {
     "name": "stdout",
     "output_type": "stream",
     "text": [
      "Interpolating staggered vars: ['W', 'PH', 'PHB']\n",
      "Checking interpolated geopotential\n",
      "Interpolating unstaggered vars: ['U', 'V', 'ALB', 'AL', 'T', 'THM', 'PB', 'P', 'QVAPOR', 'QCLOUD', 'QRAIN', 'C1H', 'C2H', 'RDNW']\n",
      "<xarray.Dataset>\n",
      "Dimensions:  (south_north: 200, west_east: 128, Time: 1, west_east_stag: 129,\n",
      "              INTERP_bottom_top: 200, south_north_stag: 201)\n",
      "Coordinates:\n",
      "    XLAT     (south_north, west_east, Time) float32 33.2 33.21 ... 38.49 38.5\n",
      "    XLONG    (south_north, west_east, Time) float32 -123.6 -123.6 ... -123.8\n",
      "    XLAT_U   (Time, south_north, west_east_stag) float32 33.19 33.2 ... 38.51\n",
      "    XLONG_U  (Time, south_north, west_east_stag) float32 -123.6 ... -123.8\n",
      "    XLAT_V   (Time, south_north_stag, west_east) float32 33.19 33.2 ... 38.51\n",
      "    XLONG_V  (Time, south_north_stag, west_east) float32 -123.6 ... -123.8\n",
      "Dimensions without coordinates: south_north, west_east, Time, west_east_stag,\n",
      "                                INTERP_bottom_top, south_north_stag\n",
      "Data variables: (12/14)\n",
      "    U        (south_north, west_east, Time, west_east_stag, INTERP_bottom_top) float32 ...\n",
      "    V        (south_north, west_east, Time, south_north_stag, INTERP_bottom_top) float32 ...\n",
      "    ALB      (south_north, west_east, Time, INTERP_bottom_top) float32 0.834 ...\n",
      "    AL       (south_north, west_east, Time, INTERP_bottom_top) float32 -0.005...\n",
      "    T        (south_north, west_east, Time, INTERP_bottom_top) float32 -12.23...\n",
      "    THM      (south_north, west_east, Time, INTERP_bottom_top) float32 -7.584...\n",
      "    ...       ...\n",
      "    QVAPOR   (south_north, west_east, Time, INTERP_bottom_top) float32 0.0100...\n",
      "    QCLOUD   (south_north, west_east, Time, INTERP_bottom_top) float32 0.0 .....\n",
      "    QRAIN    (south_north, west_east, Time, INTERP_bottom_top) float32 0.0 .....\n",
      "    C1H      (south_north, west_east, Time, INTERP_bottom_top) float32 1.015 ...\n",
      "    C2H      (south_north, west_east, Time, INTERP_bottom_top) float32 -1.446...\n",
      "    RDNW     (south_north, west_east, Time, INTERP_bottom_top) float32 -373.8...\n",
      "<xarray.Dataset>\n",
      "Dimensions:  (south_north: 200, west_east: 128, Time: 1,\n",
      "              INTERP_bottom_top_stag: 201)\n",
      "Coordinates:\n",
      "    XLAT     (south_north, west_east, Time) float32 33.2 33.21 ... 38.49 38.5\n",
      "    XLONG    (south_north, west_east, Time) float32 -123.6 -123.6 ... -123.8\n",
      "Dimensions without coordinates: south_north, west_east, Time,\n",
      "                                INTERP_bottom_top_stag\n",
      "Data variables:\n",
      "    W        (south_north, west_east, Time, INTERP_bottom_top_stag) float32 0...\n",
      "    PH       (south_north, west_east, Time, INTERP_bottom_top_stag) float32 0...\n",
      "    PHB      (south_north, west_east, Time, INTERP_bottom_top_stag) float32 0...\n"
     ]
    },
    {
     "ename": "ValueError",
     "evalue": "('Time', 'bottom_top', 'south_north', 'west_east_stag') must be a permuted list of ('south_north', 'west_east', 'Time', 'west_east_stag', 'bottom_top'), unless `...` is included",
     "output_type": "error",
     "traceback": [
      "\u001b[0;31m---------------------------------------------------------------------------\u001b[0m",
      "\u001b[0;31mValueError\u001b[0m                                Traceback (most recent call last)",
      "File \u001b[0;32m<timed exec>:1\u001b[0m\n",
      "File \u001b[0;32m~/erftools/erftools/preprocessing/hrrr.py:568\u001b[0m, in \u001b[0;36mNativeHRRR.to_wrfinput\u001b[0;34m(self, dtype, zlevels_stag)\u001b[0m\n\u001b[1;32m    566\u001b[0m \u001b[38;5;66;03m# interpolate to requested heights\u001b[39;00m\n\u001b[1;32m    567\u001b[0m \u001b[38;5;28;01mif\u001b[39;00m zlevels_stag \u001b[38;5;129;01mis\u001b[39;00m \u001b[38;5;129;01mnot\u001b[39;00m \u001b[38;5;28;01mNone\u001b[39;00m:\n\u001b[0;32m--> 568\u001b[0m     \u001b[43minterp_zlevels\u001b[49m\u001b[43m(\u001b[49m\u001b[43minp\u001b[49m\u001b[43m,\u001b[49m\u001b[43m \u001b[49m\u001b[43mzlevels_stag\u001b[49m\u001b[43m,\u001b[49m\u001b[43m \u001b[49m\u001b[43mdtype\u001b[49m\u001b[38;5;241;43m=\u001b[39;49m\u001b[43mdtype\u001b[49m\u001b[43m)\u001b[49m\n\u001b[1;32m    570\u001b[0m \u001b[38;5;28;01mreturn\u001b[39;00m inp\n",
      "File \u001b[0;32m~/erftools/erftools/preprocessing/interpolation.py:80\u001b[0m, in \u001b[0;36minterp_zlevels\u001b[0;34m(ds, zlevels_stag, ph, phb, check_ph, dtype)\u001b[0m\n\u001b[1;32m     78\u001b[0m \u001b[38;5;28;01mfor\u001b[39;00m varn,da \u001b[38;5;129;01min\u001b[39;00m interp_unstag\u001b[38;5;241m.\u001b[39mitems():\n\u001b[1;32m     79\u001b[0m     dims \u001b[38;5;241m=\u001b[39m ds[varn]\u001b[38;5;241m.\u001b[39mdims\n\u001b[0;32m---> 80\u001b[0m     ds[varn] \u001b[38;5;241m=\u001b[39m \u001b[43mda\u001b[49m\u001b[38;5;241;43m.\u001b[39;49m\u001b[43mtranspose\u001b[49m\u001b[43m(\u001b[49m\u001b[38;5;241;43m*\u001b[39;49m\u001b[43mdims\u001b[49m\u001b[43m)\u001b[49m\n\u001b[1;32m     81\u001b[0m \u001b[38;5;28;01mfor\u001b[39;00m varn,da \u001b[38;5;129;01min\u001b[39;00m interp_stag\u001b[38;5;241m.\u001b[39mitems():\n\u001b[1;32m     82\u001b[0m     dims \u001b[38;5;241m=\u001b[39m ds[varn]\u001b[38;5;241m.\u001b[39mdims\n",
      "File \u001b[0;32m~/miniforge3/envs/forge/lib/python3.11/site-packages/xarray/core/dataarray.py:2975\u001b[0m, in \u001b[0;36mDataArray.transpose\u001b[0;34m(self, transpose_coords, missing_dims, *dims)\u001b[0m\n\u001b[1;32m   2942\u001b[0m \u001b[38;5;250m\u001b[39m\u001b[38;5;124;03m\"\"\"Return a new DataArray object with transposed dimensions.\u001b[39;00m\n\u001b[1;32m   2943\u001b[0m \n\u001b[1;32m   2944\u001b[0m \u001b[38;5;124;03mParameters\u001b[39;00m\n\u001b[0;32m   (...)\u001b[0m\n\u001b[1;32m   2972\u001b[0m \u001b[38;5;124;03mDataset.transpose\u001b[39;00m\n\u001b[1;32m   2973\u001b[0m \u001b[38;5;124;03m\"\"\"\u001b[39;00m\n\u001b[1;32m   2974\u001b[0m \u001b[38;5;28;01mif\u001b[39;00m dims:\n\u001b[0;32m-> 2975\u001b[0m     dims \u001b[38;5;241m=\u001b[39m \u001b[38;5;28mtuple\u001b[39m(utils\u001b[38;5;241m.\u001b[39minfix_dims(dims, \u001b[38;5;28mself\u001b[39m\u001b[38;5;241m.\u001b[39mdims, missing_dims))\n\u001b[1;32m   2976\u001b[0m variable \u001b[38;5;241m=\u001b[39m \u001b[38;5;28mself\u001b[39m\u001b[38;5;241m.\u001b[39mvariable\u001b[38;5;241m.\u001b[39mtranspose(\u001b[38;5;241m*\u001b[39mdims)\n\u001b[1;32m   2977\u001b[0m \u001b[38;5;28;01mif\u001b[39;00m transpose_coords:\n",
      "File \u001b[0;32m~/miniforge3/envs/forge/lib/python3.11/site-packages/xarray/core/utils.py:816\u001b[0m, in \u001b[0;36minfix_dims\u001b[0;34m(dims_supplied, dims_all, missing_dims)\u001b[0m\n\u001b[1;32m    814\u001b[0m existing_dims \u001b[38;5;241m=\u001b[39m drop_missing_dims(dims_supplied, dims_all, missing_dims)\n\u001b[1;32m    815\u001b[0m \u001b[38;5;28;01mif\u001b[39;00m \u001b[38;5;28mset\u001b[39m(existing_dims) \u001b[38;5;241m^\u001b[39m \u001b[38;5;28mset\u001b[39m(dims_all):\n\u001b[0;32m--> 816\u001b[0m     \u001b[38;5;28;01mraise\u001b[39;00m \u001b[38;5;167;01mValueError\u001b[39;00m(\n\u001b[1;32m    817\u001b[0m         \u001b[38;5;124mf\u001b[39m\u001b[38;5;124m\"\u001b[39m\u001b[38;5;132;01m{\u001b[39;00mdims_supplied\u001b[38;5;132;01m}\u001b[39;00m\u001b[38;5;124m must be a permuted list of \u001b[39m\u001b[38;5;132;01m{\u001b[39;00mdims_all\u001b[38;5;132;01m}\u001b[39;00m\u001b[38;5;124m, unless `...` is included\u001b[39m\u001b[38;5;124m\"\u001b[39m\n\u001b[1;32m    818\u001b[0m     )\n\u001b[1;32m    819\u001b[0m \u001b[38;5;28;01myield from\u001b[39;00m existing_dims\n",
      "\u001b[0;31mValueError\u001b[0m: ('Time', 'bottom_top', 'south_north', 'west_east_stag') must be a permuted list of ('south_north', 'west_east', 'Time', 'west_east_stag', 'bottom_top'), unless `...` is included"
     ]
    }
   ],
   "source": [
    "%%time\n",
    "inp = hrrrdata.to_wrfinput(dtype=nc_dtype, zlevels_stag=zlevels_stag)\n",
    "\n",
    "# CPU times: user 14.6 s, sys: 14.5 s, total: 29.1 s\n",
    "# Wall time: 33.8 s"
   ]
  },
  {
   "cell_type": "code",
   "execution_count": null,
   "id": "9371f77f-fd54-4caf-8d6e-983ee539dd6b",
   "metadata": {},
   "outputs": [],
   "source": []
  },
  {
   "cell_type": "raw",
   "id": "915e8ede-fe26-4e12-8aaa-da37a9d840ef",
   "metadata": {},
   "source": [
    "%%time\n",
    "\"\"\"Vertical interpolation on a WRF-like dataset to staggered zlevels AGL\"\"\"\n",
    "zlevels = 0.5 * (zlevels_stag[1:] + zlevels_stag[:-1])\n",
    "zinp = (inp['PH'] + inp['PHB']) / 9.81\n",
    "zinp = zinp.squeeze()\n",
    "zinp_unstag = destagger(zinp)\n",
    "zsurf = zinp.isel(bottom_top_stag=0)\n",
    "zsurf0 = zsurf.values.ravel()[0]\n",
    "assert np.all(zsurf == zsurf0), 'Need to implement more sophisiticated interpolation for general terrain'\n",
    "\n",
    "varlist = list(inp.data_vars)\n",
    "stagvars = [varn for varn in varlist if 'bottom_top_stag' in inp[varn].dims]\n",
    "unstagvars = [varn for varn in varlist if 'bottom_top' in inp[varn].dims]\n",
    "\n",
    "def interpfun(zvals, columndata, zinterp):\n",
    "    \"\"\"note: core dim is moved to end\n",
    "    expected `zvals` dims are (south_north, west_east, bottom_top*)\n",
    "    expected `columndata` dims are (Time, south_north, west_east, bottom_top*)\n",
    "    `zinterp` should be a numpy array\n",
    "    \"\"\"\n",
    "    #f = interp1d(zvals, columndata, kind=method, axis=-1,\n",
    "    #             bounds_error=True, assume_sorted=True)\n",
    "    #return f(zinterp)\n",
    "    return np.interp(zinterp, zvals, columndata)\n",
    "\n",
    "print('Interpolating staggered vars:', stagvars)\n",
    "interp_stag = xr.apply_ufunc(\n",
    "    interpfun,\n",
    "    zinp, inp[stagvars],\n",
    "    input_core_dims=[['bottom_top_stag'], ['bottom_top_stag']],\n",
    "    output_core_dims=[['INTERP_bottom_top_stag']],\n",
    "    output_dtypes=[nc_dtype],\n",
    "    kwargs={'zinterp': zlevels_stag + zsurf0},\n",
    "    vectorize=True,\n",
    ")\n",
    "assert np.all(np.isfinite(interp_stag).all()), 'Interpolating to staggered z levels failed'\n",
    "\n",
    "# interpolated PH, PHB should correspond to the interpolated levels...\n",
    "print('Checking interpolated geopotential')\n",
    "zstag_new = (interp_stag['PH'] + interp_stag['PHB']) / 9.81 - zsurf0\n",
    "assert zinp.dims[0] == 'bottom_top_stag'\n",
    "zstag_new = zstag_new.squeeze().rename(INTERP_bottom_top_stag='bottom_top_stag').transpose(*list(zinp.dims)).values\n",
    "z_new = 0.5 * (zstag_new[1:,...] + zstag_new[:-1,...])\n",
    "relerr = (z_new - zlevels[:,np.newaxis,np.newaxis]) / z_new\n",
    "assert np.all(np.abs(relerr) < 1e-6)\n",
    "\n",
    "# interpolate unstaggered vars\n",
    "print('Interpolating unstaggered vars:', unstagvars)\n",
    "interp_unstag = xr.apply_ufunc(\n",
    "    interpfun,\n",
    "    zinp_unstag, inp[unstagvars],\n",
    "    input_core_dims=[['bottom_top'], ['bottom_top']],\n",
    "    output_core_dims=[['INTERP_bottom_top']],\n",
    "    output_dtypes=[nc_dtype],\n",
    "    kwargs={'zinterp': zlevels + zsurf0},\n",
    "    vectorize=True,\n",
    ")\n",
    "assert np.all(np.isfinite(interp_unstag).all()), 'Interpolating to unstaggered z levels failed'\n",
    "\n",
    "# update original dataset\n",
    "for varn,da in interp_unstag.items():\n",
    "    dims = inp[varn].dims\n",
    "    inp[varn] = da.transpose(*dims)\n",
    "for varn,da in interp_stag.items():\n",
    "    dims = inp[varn].dims\n",
    "    inp[varn] = da.transpose(*dims)\n",
    "inp = inp.rename(INTERP_bottom_top='bottom_top',\n",
    "                 INTERP_bottom_top_stag='bottom_top_stag')\n",
    "\n",
    "# CPU times: user 29.1 s, sys: 2.31 s, total: 31.5 s\n",
    "# Wall time: 32.5 s"
   ]
  },
  {
   "cell_type": "code",
   "execution_count": 27,
   "id": "e436c389-9224-40cc-96b4-788319c6415d",
   "metadata": {},
   "outputs": [
    {
     "ename": "NameError",
     "evalue": "name 'inp' is not defined",
     "output_type": "error",
     "traceback": [
      "\u001b[0;31m---------------------------------------------------------------------------\u001b[0m",
      "\u001b[0;31mNameError\u001b[0m                                 Traceback (most recent call last)",
      "Cell \u001b[0;32mIn[27], line 1\u001b[0m\n\u001b[0;32m----> 1\u001b[0m \u001b[43minp\u001b[49m\n",
      "\u001b[0;31mNameError\u001b[0m: name 'inp' is not defined"
     ]
    }
   ],
   "source": [
    "inp"
   ]
  },
  {
   "cell_type": "code",
   "execution_count": null,
   "id": "15052669-13d5-42ee-ade0-4317b4379040",
   "metadata": {},
   "outputs": [],
   "source": []
  },
  {
   "cell_type": "code",
   "execution_count": null,
   "id": "527849bd-a75b-41c7-99ca-6bb0ea2c653d",
   "metadata": {},
   "outputs": [],
   "source": []
  },
  {
   "cell_type": "raw",
   "id": "ac891bb2-2dae-4069-b9f0-35c462ae60b0",
   "metadata": {},
   "source": [
    "######## TEST DRY ########\n",
    "inp['QVAPOR']   = (inp['QVAPOR'].dims, np.zeros_like(inp['QVAPOR']))\n",
    "inp['MAPFAC_M'] = (inp['MAPFAC_M'].dims, np.ones_like(inp['MAPFAC_M']))\n",
    "inp['MAPFAC_U'] = (inp['MAPFAC_U'].dims, np.ones_like(inp['MAPFAC_U']))\n",
    "inp['MAPFAC_V'] = (inp['MAPFAC_V'].dims, np.ones_like(inp['MAPFAC_V']))"
   ]
  },
  {
   "cell_type": "code",
   "execution_count": null,
   "id": "46967c84-ace3-4aab-950c-cdb57df042c8",
   "metadata": {},
   "outputs": [],
   "source": []
  },
  {
   "cell_type": "markdown",
   "id": "1f84651e-ecf3-4ea1-b2b2-3c1ca3a52645",
   "metadata": {},
   "source": [
    "### Write out initial data"
   ]
  },
  {
   "cell_type": "code",
   "execution_count": null,
   "id": "49094d1d-64c7-46b9-b357-b7d3d330d449",
   "metadata": {},
   "outputs": [],
   "source": [
    "# add attributes for reference\n",
    "for key,val in attrs.items():\n",
    "    if key in inp.attrs:\n",
    "        print('Overwriting',key,'=',inp.attrs[key],'with',val)\n",
    "    inp.attrs[key] = val"
   ]
  },
  {
   "cell_type": "code",
   "execution_count": null,
   "id": "b8ef65a2-d485-4519-8681-6d1ebf4d391b",
   "metadata": {},
   "outputs": [],
   "source": [
    "inp['TSK'] = inp['SST']"
   ]
  },
  {
   "cell_type": "code",
   "execution_count": null,
   "id": "63e43f5f-554f-4927-93bf-f987dd029bdf",
   "metadata": {},
   "outputs": [],
   "source": [
    "%time inp.to_netcdf(f'{datadir}/wrfinput_d01{suffix}')\n",
    "\n",
    "# CPU times: user 10.4 s, sys: 15.6 s, total: 26 s\n",
    "# Wall time: 29.3 s"
   ]
  },
  {
   "cell_type": "code",
   "execution_count": null,
   "id": "de9ef307-c774-4166-a165-43cb5646fb17",
   "metadata": {},
   "outputs": [],
   "source": []
  },
  {
   "cell_type": "code",
   "execution_count": null,
   "id": "004003b3-ec27-4aae-92d3-3d020fc1d61e",
   "metadata": {},
   "outputs": [],
   "source": []
  },
  {
   "cell_type": "markdown",
   "id": "41d42bfa-8bec-43b3-b173-3a21e1af69cf",
   "metadata": {},
   "source": [
    "## 4. Interpolate to boundaries over time\n",
    "From `IO/ERF_ReadFromWRFBdy.cpp`, need:\n",
    "* `U`\n",
    "* `V`\n",
    "* ~~`R` (rho)~~ calculated in `convert_wrfbdy_data`\n",
    "* `T`, moist perturbation temperature\n",
    "* `QVAPOR`\n",
    "* `MU`, perturbation dry air mass in column (Pa)\n",
    "* ~~`PC`, perturbation column pressure (Pa)~~\n",
    "\n",
    "at `BXS` (west), `BXE` (east), `BYS` (south), and `BYE` (north) locations. `MU` and `PC` do not vary in the vertical."
   ]
  },
  {
   "cell_type": "raw",
   "id": "23119e87-44eb-4b6b-a63f-ab5893f80c47",
   "metadata": {},
   "source": [
    "from gribapi.errors import GribInternalError\n",
    "import warnings\n",
    "warnings.filterwarnings('ignore', category=UserWarning)"
   ]
  },
  {
   "cell_type": "code",
   "execution_count": null,
   "id": "3c001761-37fb-4fb4-ba3a-3debd83a6bd0",
   "metadata": {
    "scrolled": true
   },
   "outputs": [],
   "source": [
    "%%time\n",
    "bdylist = []\n",
    "for itime,datetime in enumerate(datetimes):\n",
    "    print(f'Generating boundary data at {datetime} (Time={itime})')\n",
    "    \n",
    "    if datetime==start_date:\n",
    "        snapshot = hrrrdata\n",
    "    else:\n",
    "        snapshot = NativeHRRR(datetime)            \n",
    "        print('- calculating field quantities')\n",
    "        snapshot.set_output_grid(grid)\n",
    "        snapshot.clip(hrrr_xg_min,hrrr_xg_max,\n",
    "                      hrrr_yg_min,hrrr_yg_max,\n",
    "                      #zmax=prob_extent[2],\n",
    "                      inplace=True)\n",
    "        snapshot.calculate()\n",
    "    \n",
    "    #snapshot.verbose = True\n",
    "\n",
    "    print('- creating wrfbdy snapshot')\n",
    "    bdy = snapshot.to_wrfbdy(bdy_width, dtype=nc_dtype, zlevels_stag=zlevels_stag)\n",
    "    \n",
    "    ######## TEST DRY ########\n",
    "    # bdy = snapshot.to_wrfbdy(bdy_width, dtype=nc_dtype, calc_msf=False)\n",
    "    # for varn in bdy.data_vars:\n",
    "    #     if varn.startswith('QVAPOR'):\n",
    "    #         bdy[varn] = 0 * bdy[varn]\n",
    "    ##########################\n",
    "    \n",
    "    bdylist.append(bdy)\n",
    "    \n",
    "# CPU times: user 5min 11s, sys: 1min 1s, total: 6min 13s\n",
    "# Wall time: 6min 20s"
   ]
  },
  {
   "cell_type": "code",
   "execution_count": null,
   "id": "f4366172-2ab7-4ceb-97db-ffc47c55a3bc",
   "metadata": {},
   "outputs": [],
   "source": [
    "bdy = xr.concat(bdylist, 'Time')\n",
    "\n",
    "# VERIFY correspondence between wrfinput and wrfbdy\n",
    "for idx in range(bdy_width):\n",
    "    assert np.all(bdy['MU_BXS'].isel(Time=0,bdy_width=idx) == inp['MU'].isel(west_east=idx))\n",
    "for idx in range(bdy_width):\n",
    "    assert np.all(bdy['MU_BXE'].isel(Time=0,bdy_width=idx) == inp['MU'].isel(west_east=-(idx+1)))\n",
    "for idx in range(bdy_width):\n",
    "    assert np.all(bdy['MU_BYS'].isel(Time=0,bdy_width=idx) == inp['MU'].isel(south_north=idx))\n",
    "for idx in range(bdy_width):\n",
    "    assert np.all(bdy['MU_BYE'].isel(Time=0,bdy_width=idx) == inp['MU'].isel(south_north=-(idx+1)))"
   ]
  },
  {
   "cell_type": "code",
   "execution_count": null,
   "id": "e9e899b9-03fe-4891-9465-62453e10d8cb",
   "metadata": {},
   "outputs": [],
   "source": [
    "# add PC fields -- should not be needed\n",
    "bdy['PC_BXS'] = 0.0 * bdy['MU_BXS']\n",
    "bdy['PC_BXE'] = 0.0 * bdy['MU_BXE']\n",
    "bdy['PC_BYS'] = 0.0 * bdy['MU_BYS']\n",
    "bdy['PC_BYE'] = 0.0 * bdy['MU_BYE']"
   ]
  },
  {
   "cell_type": "code",
   "execution_count": null,
   "id": "c3c26dce-123a-4dc9-ad00-d8adab470fd5",
   "metadata": {},
   "outputs": [],
   "source": [
    "# cleanup\n",
    "bdy = bdy.drop_vars(list(bdy.coords))\n",
    "\n",
    "bdy.to_netcdf(f'{datadir}/wrfbdy_d01{suffix}')"
   ]
  },
  {
   "cell_type": "code",
   "execution_count": null,
   "id": "3b0e949b-2c2d-4581-b240-ca6cbda42f7d",
   "metadata": {},
   "outputs": [],
   "source": []
  },
  {
   "cell_type": "code",
   "execution_count": null,
   "id": "20606ddf-4fc3-412c-933c-53fc4b30981c",
   "metadata": {},
   "outputs": [],
   "source": []
  }
 ],
 "metadata": {
  "kernelspec": {
   "display_name": "forge",
   "language": "python",
   "name": "forge"
  },
  "language_info": {
   "codemirror_mode": {
    "name": "ipython",
    "version": 3
   },
   "file_extension": ".py",
   "mimetype": "text/x-python",
   "name": "python",
   "nbconvert_exporter": "python",
   "pygments_lexer": "ipython3",
   "version": "3.11.10"
  }
 },
 "nbformat": 4,
 "nbformat_minor": 5
}
